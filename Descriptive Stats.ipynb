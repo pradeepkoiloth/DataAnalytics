import pandas as pd

# Load the dataset
file_path = 'dataset1.csv'
data = pd.read_csv(file_path)

# Display basic statistics for numeric columns
print(data.describe())

# Display value counts for categorical columns
print(data['Gender'].value_counts())
print(data['Activity Level'].value_counts())
print(data['Location'].value_counts())
