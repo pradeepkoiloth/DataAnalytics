import matplotlib.pyplot as plt
import seaborn as sns

# Set style for plots
sns.set(style="whitegrid")

# Plot mean app sessions by gender
plt.figure(figsize=(10, 6))
sns.barplot(x=gender_app_sessions.index, y=gender_app_sessions.values, palette="viridis")
plt.title('Mean App Sessions by Gender')
plt.xlabel('Gender')
plt.ylabel('Mean App Sessions')
plt.show()

# Plot mean distance traveled by age group
plt.figure(figsize=(10, 6))
sns.barplot(x=age_distance_traveled.index, y=age_distance_traveled.values, palette="viridis")
plt.title('Mean Distance Travelled by Age Group')
plt.xlabel('Age Group')
plt.ylabel('Mean Distance Travelled (km)')
plt.show()

# Plot mean calories burned by activity level
plt.figure(figsize=(10, 6))
sns.barplot(x=activity_calories_burned.index, y=activity_calories_burned.values, palette="viridis")
plt.title('Mean Calories Burned by Activity Level')
plt.xlabel('Activity Level')
plt.ylabel('Mean Calories Burned')
plt.show()

# Plot mean app sessions by location
plt.figure(figsize=(10, 6))
sns.barplot(x=location_app_sessions.index, y=location_app_sessions.values, palette="viridis")
plt.title('Mean App Sessions by Location')
plt.xlabel('Location')
plt.ylabel('Mean App Sessions')
plt.show()
