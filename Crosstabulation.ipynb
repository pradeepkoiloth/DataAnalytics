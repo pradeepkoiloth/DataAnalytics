# Calculate mean app sessions by gender
gender_app_sessions = data.groupby('Gender')['App Sessions'].mean()

# Calculate mean distance traveled by age group
data['Age Group'] = pd.cut(data['Age'], bins=[18, 30, 40, 50, 60], labels=['18-30', '31-40', '41-50', '51-60'])
age_distance_traveled = data.groupby('Age Group')['Distance Travelled (km)'].mean()

# Calculate mean calories burned by activity level
activity_calories_burned = data.groupby('Activity Level')['Calories Burned'].mean()

# Calculate mean app sessions by location
location_app_sessions = data.groupby('Location')['App Sessions'].mean()

# Display the results
print("Mean App Sessions by Gender:")
print(gender_app_sessions)

print("\nMean Distance Travelled by Age Group:")
print(age_distance_traveled)

print("\nMean Calories Burned by Activity Level:")
print(activity_calories_burned)

print("\nMean App Sessions by Location:")
print(location_app_sessions)

