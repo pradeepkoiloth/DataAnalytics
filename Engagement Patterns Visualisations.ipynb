import pandas as pd
import matplotlib.pyplot as plt

# Load the dataset
file_path = 'dataset1.csv' 
data = pd.read_csv(file_path)

# Verify column names
print("Column names:", data.columns)

# Verify first few rows of the DataFrame
print(data.head())

# Distribution of app sessions
plt.figure(figsize=(10, 6))
plt.hist(data['App Sessions'], bins=30, color='skyblue', edgecolor='black')
plt.title('Distribution of App Sessions')
plt.xlabel('Number of App Sessions')
plt.ylabel('Frequency')
plt.grid(True)
plt.show()

# Scatter plot: App Sessions vs Distance Travelled
plt.figure(figsize=(10, 6))
plt.scatter(data['App Sessions'], data['Distance Travelled (km)'], alpha=0.5)
plt.title('App Sessions vs Distance Travelled')
plt.xlabel('Number of App Sessions')
plt.ylabel('Distance Travelled (km)')
plt.grid(True)
plt.show()

# Scatter plot: App Sessions vs Calories Burned
plt.figure(figsize=(10, 6))
plt.scatter(data['App Sessions'], data['Calories Burned'], alpha=0.5, color='orange')
plt.title('App Sessions vs Calories Burned')
plt.xlabel('Number of App Sessions')
plt.ylabel('Calories Burned')
plt.grid(True)
plt.show()

# Scatter plot: Distance Travelled vs Calories Burned
plt.figure(figsize=(10, 6))
plt.scatter(data['Distance Travelled (km)'], data['Calories Burned'], alpha=0.5, color='green')
plt.title('Distance Travelled vs Calories Burned')
plt.xlabel('Distance Travelled (km)')
plt.ylabel('Calories Burned')
plt.grid(True)
plt.show()
