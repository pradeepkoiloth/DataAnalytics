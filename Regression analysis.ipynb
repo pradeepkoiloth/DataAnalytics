from sklearn.model_selection import train_test_split
from sklearn.preprocessing import LabelEncoder
from sklearn.linear_model import LinearRegression
from sklearn.metrics import mean_absolute_error, mean_squared_error, r2_score
import numpy as np

# Encode categorical variables
le_gender = LabelEncoder()
data['Gender'] = le_gender.fit_transform(data['Gender'])

le_activity_level = LabelEncoder()
data['Activity Level'] = le_activity_level.fit_transform(data['Activity Level'])

le_location = LabelEncoder()
data['Location'] = le_location.fit_transform(data['Location'])

# Define features and target variable
X = data[['Gender', 'Age', 'Activity Level', 'Location', 'Distance Travelled (km)', 'Calories Burned']]
y = data['App Sessions']

# Split the data into training and testing sets
X_train, X_test, y_train, y_test = train_test_split(X, y, test_size=0.2, random_state=42)

# Train the linear regression model
reg_model = LinearRegression()
reg_model.fit(X_train, y_train)

# Predict on the test set
y_pred = reg_model.predict(X_test)

# Evaluate the model
mae = mean_absolute_error(y_test, y_pred)
mse = mean_squared_error(y_test, y_pred)
rmse = np.sqrt(mse)
r2 = r2_score(y_test, y_pred)

# Print the evaluation metrics
print(f"Mean Absolute Error (MAE): {mae}")
print(f"Root Mean Squared Error (RMSE): {rmse}")
print(f"R-squared (R²): {r2}")

# Print the coefficients of the model
coefficients = pd.DataFrame(reg_model.coef_, X.columns, columns=['Coefficient'])
print(coefficients)


mae, rmse, r2

