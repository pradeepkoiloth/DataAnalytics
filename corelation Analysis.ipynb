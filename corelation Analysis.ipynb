import pandas as pd

# Load the dataset
file_path = 'dataset1.csv'  # Use the file name as it appears in your Jupyter environment
data = pd.read_csv(file_path)

# Check the data types of each column
print(data.dtypes)

# Select only numeric columns for correlation calculation
numeric_data = data.select_dtypes(include=[float, int])

# Calculate the correlation matrix
correlation_matrix = numeric_data.corr()

# Display the correlation matrix
print(correlation_matrix)
